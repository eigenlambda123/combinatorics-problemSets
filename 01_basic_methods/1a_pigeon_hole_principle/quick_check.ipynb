{
 "cells": [
  {
   "cell_type": "markdown",
   "id": "632c8a54-c99a-4e31-8b51-989640ac9896",
   "metadata": {},
   "source": [
    "### **Problem 1**\n",
    "> Prove that among eight integers, there are always two whose difference\n",
    "is divisible by seven.\n",
    "\n",
    "\n",
    "### **Solution 1**\n",
    "\n",
    "* pigeons = the 8 integers (call them $a_1,\\dots,a_8$).\n",
    "* holes = the 7 possible remainders when dividing by 7: $0,1,2,3,4,5,6$.\n",
    "* key fact: two integers have **the same remainder mod 7** ⇔ their **difference is divisible by 7**.\n",
    "\n",
    "since there are 8 pigeons and only 7 holes, by the pigeonhole principle at least two integers land in the same remainder class. call them $a_i$ and $a_j$. then $a_i \\equiv a_j \\pmod{7}$, so $7 \\mid (a_i-a_j)$. done.\n",
    "\n",
    "#### polished proof:\n",
    "\n",
    "Let $a_1,\\ldots,a_8$ be eight integers. Consider their remainders upon division by 7, which must lie in $\\{0,1,2,3,4,5,6\\}$. There are 7 possible remainders and 8 integers. By the pigeonhole principle, two of the integers, say $a_i$ and $a_j$, have the same remainder modulo 7. Hence $a_i \\equiv a_j \\pmod{7}$, which implies $7 \\mid (a_i-a_j)$. Therefore, among any eight integers, there exist two whose difference is divisible by seven. ∎\n",
    "\n",
    "#### generalization:\n",
    "\n",
    "**among any $n+1$ integers, there are two whose difference is divisible by $n$** — just use remainders mod $n$ as the holes.\n",
    "\n",
    "---"
   ]
  },
  {
   "cell_type": "markdown",
   "id": "bbd74420-af3a-4b11-b453-760fc18081e9",
   "metadata": {},
   "source": [
    "### **Problem 2**\n",
    "\n",
    "> A student wrote six distinct positive integers on the board, and pointed out that none of them had a prime factor larger than 10. Prove that there are two integers on the board that have a common prime divisor. Could we make the same conclusion if in the first sentence we replaced “six” by “five”?\n",
    "\n",
    "### **Solution 2**\n",
    "\n",
    "* **Pigeons** = the integers on the board.\n",
    "* **Holes** = the possible prime divisors ≤ 10, i.e. $\\{2,3,5,7\\}$. (Do **not** include 1 — it is not a prime.)\n",
    "* **Key modelling choice:** for each integer $n>1$ choose a single prime to represent it. Every integer $>1$ is assigned to exactly one of the 4 holes. The integer 1 has no prime divisors, so treat it separately.\n",
    "* Apply the pigeonhole principle to the assigned integers $>1$.\n",
    "\n",
    "#### polished proof:\n",
    "\n",
    "Let $S$ be the set of six distinct positive integers on the board, each having no prime factor greater than 10. The only possible primes dividing any number in $S$ are $2,3,5,7$.\n",
    "\n",
    "If $1\\in S$, remove it and let $T=S\\setminus\\{1\\}$. Then $|T|=5$. If $1\\notin S$, set $T=S$ so $|T|=6$. In either case $|T|\\ge 5$ and every element of $T$ is $>1$, so each element of $T$ has at least one prime divisor from $\\{2,3,5,7\\}$.\n",
    "\n",
    "Define a map $f:T\\to\\{2,3,5,7\\}$ by letting $f(n)$ be the smallest prime divisor of $n$. This assigns each $n\\in T$ to exactly one of the four holes $2,3,5,7$. Since $|T|\\ge 5$ and there are only 4 holes, by the pigeonhole principle two distinct elements $a,b\\in T$ must satisfy $f(a)=f(b)=p$ for some $p\\in\\{2,3,5,7\\}$. By definition of $f$, $p$ divides both $a$ and $b$, so $a$ and $b$ have a common prime divisor.\n",
    "\n",
    "Thus **among any six such integers there are two with a common prime divisor.**\n",
    "\n",
    "#### about replacing “six” by “five”\n",
    "\n",
    "No — the conclusion does **not** follow from merely five integers. A counterexample is\n",
    "\n",
    "$$\n",
    "\\{1,\\,2,\\,3,\\,5,\\,7\\},\n",
    "$$\n",
    "\n",
    "where 1 has no prime divisor and the other four are distinct primes $2,3,5,7$; no two of these five share a prime divisor. So five is not sufficient, while six is.\n",
    "\n",
    "#### generalization\n",
    "\n",
    "The argument shows four holes (primes $2,3,5,7$) suffice to force a repeat once you have five integers $>1$. Because 1 can appear among the six, we needed to check the case carefully — but with six total integers (possibly including 1) you still have at least five integers $>1$ or six integers $>1$, either way the pigeonhole argument produces a common prime divisor. The bound is tight because the five-element counterexample above demonstrates failure for five."
   ]
  }
 ],
 "metadata": {
  "kernelspec": {
   "display_name": "Python 3 (ipykernel)",
   "language": "python",
   "name": "python3"
  },
  "language_info": {
   "codemirror_mode": {
    "name": "ipython",
    "version": 3
   },
   "file_extension": ".py",
   "mimetype": "text/x-python",
   "name": "python",
   "nbconvert_exporter": "python",
   "pygments_lexer": "ipython3",
   "version": "3.12.6"
  }
 },
 "nbformat": 4,
 "nbformat_minor": 5
}
