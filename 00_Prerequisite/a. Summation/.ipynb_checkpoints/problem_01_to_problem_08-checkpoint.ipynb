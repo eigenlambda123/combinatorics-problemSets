{
 "cells": [
  {
   "cell_type": "markdown",
   "id": "9539124c-b4a3-454d-b720-9ee4b6b43e01",
   "metadata": {},
   "source": [
    "### **Problems**\n",
    "\n",
    "1. Evaluate the summation:\n",
    "   $$\\sum_{g=4}^9 (5g+3)$$\n",
    "\n",
    "2. Compute the series:\n",
    "   $$\\sum_{k=3}^8 \\frac{1}{k}$$\n",
    "\n",
    "3. Calculate the sum:\n",
    "   $$\\sum_{j=0}^5 2^j$$\n",
    "\n",
    "4. Find the value of:\n",
    "   $$\\sum_{k=0}^2 (3k-5)x^k$$\n",
    "\n",
    "5. Evaluate the summation:\n",
    "   $$\\sum_{i=1}^4 \\frac{1}{4}(i^2+1)$$\n",
    "\n",
    "6. Compute the alternating series:\n",
    "   $$\\sum_{n=1}^{100} (-1)^n$$\n",
    "\n",
    "7. Calculate the factorial sum:\n",
    "   $$\\sum_{n=1}^5 \\frac{(n+1)!}{n!}$$\n",
    "\n",
    "8. Evaluate the binomial coefficient sum:\n",
    "   $$\\sum_{j=1}^3 \\frac{5!}{j!(5-j)!}$$"
   ]
  },
  {
   "cell_type": "markdown",
   "id": "e5e7e632-d997-4f27-9a45-fd3d7067b0c1",
   "metadata": {},
   "source": [
    "---\n",
    "### **Solutions**\n",
    "\n",
    "1. **Sum of Linear Terms**  \n",
    "   $$\\sum_{g=4}^9 (5g+3) = 5\\sum_{g=4}^9 g + \\sum_{g=4}^9 3 = 5(4+5+6+7+8+9) + 6\\times3 = 5(39) + 18 = \\boxed{213}$$\n",
    "\n",
    "2. **Harmonic Series**  \n",
    "   $$\\sum_{k=3}^8 \\frac{1}{k} = \\frac{1}{3} + \\frac{1}{4} + \\frac{1}{5} + \\frac{1}{6} + \\frac{1}{7} + \\frac{1}{8} = \\boxed{\\frac{743}{840}}$$\n",
    "\n",
    "3. **Geometric Series**  \n",
    "   $$\\sum_{j=0}^5 2^j = 2^0 + 2^1 + \\cdots + 2^5 = \\frac{2^6 - 1}{2 - 1} = \\boxed{63}$$\n",
    "\n",
    "4. **Polynomial in x**  \n",
    "   $$\\sum_{k=0}^2 (3k-5)x^k = -5x^0 + (-2)x^1 + 1x^2 = \\boxed{-5 - 2x + x^2}$$\n",
    "\n",
    "5. **Quadratic Terms**  \n",
    "   $$\\sum_{i=1}^4 \\frac{1}{4}(i^2+1) = \\frac{1}{4}\\left[(1+4+9+16) + 4\\times1\\right] = \\frac{1}{4}(30) = \\boxed{\\frac{15}{2}}$$\n",
    "\n",
    "6. **Alternating Series**  \n",
    "   $$\\sum_{n=1}^{100} (-1)^n = -1 + 1 - 1 + \\cdots + 1 \\quad \\text{(100 terms)} = \\boxed{0}$$\n",
    "\n",
    "7. **Factorial Series**  \n",
    "   $$\\sum_{n=1}^5 \\frac{(n+1)!}{n!} = \\sum_{n=1}^5 (n+1) = 2 + 3 + 4 + 5 + 6 = \\boxed{20}$$\n",
    "\n",
    "8. **Binomial Coefficients**  \n",
    "   $$\\sum_{j=1}^3 \\frac{5!}{j!(5-j)!} = \\binom{5}{1} + \\binom{5}{2} + \\binom{5}{3} = 5 + 10 + 10 = \\boxed{25}$$"
   ]
  }
 ],
 "metadata": {
  "kernelspec": {
   "display_name": "Python 3 (ipykernel)",
   "language": "python",
   "name": "python3"
  },
  "language_info": {
   "codemirror_mode": {
    "name": "ipython",
    "version": 3
   },
   "file_extension": ".py",
   "mimetype": "text/x-python",
   "name": "python",
   "nbconvert_exporter": "python",
   "pygments_lexer": "ipython3",
   "version": "3.12.6"
  }
 },
 "nbformat": 4,
 "nbformat_minor": 5
}
