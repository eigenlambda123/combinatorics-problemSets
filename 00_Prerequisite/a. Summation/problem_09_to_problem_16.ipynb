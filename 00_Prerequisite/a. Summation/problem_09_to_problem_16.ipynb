{
 "cells": [
  {
   "cell_type": "markdown",
   "id": "b9063554-54c1-4730-aed2-79778885da13",
   "metadata": {},
   "source": [
    "### **Problems**\n",
    "\n",
    "9. Evaluate the arithmetic series:  \n",
    "   $$8 + 11 + 14 + 17 + 20$$\n",
    "\n",
    "10. Compute the alternating sum:  \n",
    "    $$1 - 2 + 3 - 4 + 5 - 6 + 7 - 8$$\n",
    "\n",
    "11. Find the sum of the polynomial series:  \n",
    "    $$x - \\frac{x^3}{3} + \\frac{x^5}{5} - \\frac{x^7}{7}$$\n",
    "\n",
    "12. Calculate the geometric series sum:  \n",
    "    $$1 + 2 + 4 + \\cdots + 2^{29}$$\n",
    "\n",
    "13. Evaluate the harmonic-like series:  \n",
    "    $$2 + \\frac{3}{2} + \\frac{4}{3} + \\frac{5}{4} + \\frac{6}{5}$$\n",
    "\n",
    "14. Compute the logarithmic alternating series:  \n",
    "    $$-\\ln(3) + \\ln(4) - \\ln(5) + \\cdots + \\ln(20)$$\n",
    "\n",
    "15. Find the sum of the reciprocal squares with alternating signs:  \n",
    "    $$1 - \\frac{1}{4} + \\frac{1}{9} - \\frac{1}{16} + \\frac{1}{25} - \\frac{1}{36}$$\n",
    "\n",
    "16. Evaluate the Taylor-like series expansion:  \n",
    "    $$\\frac{1}{2}(x - 5) + \\frac{1}{4}(x - 5)^2 + \\frac{1}{6}(x - 5)^3 + \\frac{1}{8}(x - 5)^4$$"
   ]
  },
  {
   "cell_type": "markdown",
   "id": "ae45b520-7865-47b7-ac4f-65ba61e18690",
   "metadata": {},
   "source": [
    "---\n",
    "### **Solutions**\n",
    "\n",
    "9. **Arithmetic Series Sum**  \n",
    "   $$\\sum_{k=0}^4 (8 + 3k) = 8 + 11 + 14 + 17 + 20 = \\boxed{70}$$\n",
    "\n",
    "10. **Alternating Integer Sum**  \n",
    "    $$\\sum_{k=1}^8 (-1)^{k+1}k = 1 - 2 + 3 - 4 + 5 - 6 + 7 - 8 = \\boxed{-4}$$\n",
    "\n",
    "11. **Polynomial Expansion**  \n",
    "    $$\\sum_{n=0}^3 (-1)^n \\frac{x^{2n+1}}{2n+1} = x - \\frac{x^3}{3} + \\frac{x^5}{5} - \\frac{x^7}{7} = \\boxed{\\text{Truncated arctan series}}$$\n",
    "\n",
    "12. **Geometric Series**  \n",
    "    $$\\sum_{k=0}^{29} 2^k = 1 + 2 + 4 + \\cdots + 2^{29} = 2^{30} - 1 = \\boxed{1,\\!073,\\!741,\\!823}$$\n",
    "\n",
    "13. **Harmonic-Type Series**  \n",
    "    $$\\sum_{k=1}^5 \\frac{k+1}{k} = 2 + \\frac{3}{2} + \\frac{4}{3} + \\frac{5}{4} + \\frac{6}{5} = \\boxed{\\frac{137}{12}}$$\n",
    "\n",
    "14. **Alternating Log Series**  \n",
    "    $$\\sum_{k=3}^{20} (-1)^k \\ln k = -\\ln(3) + \\ln(4) - \\cdots + \\ln(20) = \\boxed{\\ln\\left(\\frac{4 \\times 6 \\times \\cdots \\times 20}{3 \\times 5 \\times \\cdots \\times 19}\\right)}$$\n",
    "\n",
    "15. **Alternating p-Series**  \n",
    "    $$\\sum_{k=1}^6 \\frac{(-1)^{k+1}}{k^2} = 1 - \\frac{1}{4} + \\frac{1}{9} - \\cdots - \\frac{1}{36} = \\boxed{\\frac{509}{900}}$$\n",
    "\n",
    "16. **Modified Taylor Series**  \n",
    "    $$\\sum_{k=1}^4 \\frac{(x-5)^k}{2k} = \\frac{1}{2}(x-5) + \\cdots + \\frac{1}{8}(x-5)^4 = \\boxed{\\frac{1}{2}\\ln\\left(\\frac{1}{1-(x-5)}\\right) \\text{ (first 4 terms)}}$$"
   ]
  }
 ],
 "metadata": {
  "kernelspec": {
   "display_name": "Python 3 (ipykernel)",
   "language": "python",
   "name": "python3"
  },
  "language_info": {
   "codemirror_mode": {
    "name": "ipython",
    "version": 3
   },
   "file_extension": ".py",
   "mimetype": "text/x-python",
   "name": "python",
   "nbconvert_exporter": "python",
   "pygments_lexer": "ipython3",
   "version": "3.12.6"
  }
 },
 "nbformat": 4,
 "nbformat_minor": 5
}
